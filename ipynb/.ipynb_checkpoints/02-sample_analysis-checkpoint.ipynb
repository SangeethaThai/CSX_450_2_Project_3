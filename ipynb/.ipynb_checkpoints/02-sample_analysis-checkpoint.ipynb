{
 "cells": [
  {
   "cell_type": "markdown",
   "metadata": {},
   "source": [
    "# Sample Analysis"
   ]
  },
  {
   "cell_type": "markdown",
   "metadata": {},
   "source": [
    "### Goal of this section is to analyse a small sample set of 5 data points"
   ]
  },
  {
   "cell_type": "code",
   "execution_count": null,
   "metadata": {},
   "outputs": [
    {
     "name": "stderr",
     "output_type": "stream",
     "text": [
      "Updating HTML index of packages in '.Library'\n",
      "Making 'packages.html' ..."
     ]
    }
   ],
   "source": [
    "install.packages(\"mlbench\")\n",
    "install.packages('moments')"
   ]
  },
  {
   "cell_type": "code",
   "execution_count": null,
   "metadata": {},
   "outputs": [],
   "source": [
    "library(mlbench)\n",
    "library(moments)\n",
    "library(dplyr, warn.conflicts = FALSE)"
   ]
  },
  {
   "cell_type": "code",
   "execution_count": null,
   "metadata": {},
   "outputs": [],
   "source": [
    "data(\"BostonHousing\")"
   ]
  },
  {
   "cell_type": "code",
   "execution_count": null,
   "metadata": {},
   "outputs": [],
   "source": [
    "dim(BostonHousing)"
   ]
  },
  {
   "cell_type": "markdown",
   "metadata": {},
   "source": [
    "### Check for missing data and handle it.\n",
    "\n",
    "\n",
    "Notice below that we do not have any missing data"
   ]
  },
  {
   "cell_type": "code",
   "execution_count": 5,
   "metadata": {},
   "outputs": [
    {
     "data": {
      "text/html": [
       "<table>\n",
       "<thead><tr><th scope=col>crim</th><th scope=col>zn</th><th scope=col>indus</th><th scope=col>chas</th><th scope=col>nox</th><th scope=col>rm</th><th scope=col>age</th><th scope=col>dis</th><th scope=col>rad</th><th scope=col>tax</th><th scope=col>ptratio</th><th scope=col>b</th><th scope=col>lstat</th><th scope=col>medv</th></tr></thead>\n",
       "<tbody>\n",
       "</tbody>\n",
       "</table>\n"
      ],
      "text/latex": [
       "\\begin{tabular}{r|llllllllllllll}\n",
       " crim & zn & indus & chas & nox & rm & age & dis & rad & tax & ptratio & b & lstat & medv\\\\\n",
       "\\hline\n",
       "\\end{tabular}\n"
      ],
      "text/markdown": [
       "\n",
       "crim | zn | indus | chas | nox | rm | age | dis | rad | tax | ptratio | b | lstat | medv | \n",
       "||\n",
       "\n",
       "\n"
      ],
      "text/plain": [
       "     crim zn indus chas nox rm age dis rad tax ptratio b lstat medv"
      ]
     },
     "metadata": {},
     "output_type": "display_data"
    }
   ],
   "source": [
    "BostonHousing[!complete.cases(BostonHousing),]"
   ]
  },
  {
   "cell_type": "markdown",
   "metadata": {},
   "source": [
    "### Prepare the dataset\n",
    "\n",
    "Let's separate features from the target, as we want to analyse the features. \n",
    "\n",
    "Note that we can include the categorical column chas in the aggregation as chas is a binary values column with 0 or 1 as values. We just need to convert the column's data type from factor to integer, we can perform computations on it like a numeric column."
   ]
  },
  {
   "cell_type": "code",
   "execution_count": 4,
   "metadata": {
    "scrolled": true
   },
   "outputs": [
    {
     "data": {
      "text/html": [
       "<table>\n",
       "<thead><tr><th scope=col>crim</th><th scope=col>zn</th><th scope=col>indus</th><th scope=col>chas</th><th scope=col>nox</th><th scope=col>rm</th><th scope=col>age</th><th scope=col>dis</th><th scope=col>rad</th><th scope=col>tax</th><th scope=col>ptratio</th><th scope=col>b</th><th scope=col>lstat</th></tr></thead>\n",
       "<tbody>\n",
       "\t<tr><td>0.00632</td><td>18     </td><td>2.31   </td><td>0      </td><td>0.538  </td><td>6.575  </td><td>65.2   </td><td>4.0900 </td><td>1      </td><td>296    </td><td>15.3   </td><td>396.90 </td><td>4.98   </td></tr>\n",
       "\t<tr><td>0.02731</td><td> 0     </td><td>7.07   </td><td>0      </td><td>0.469  </td><td>6.421  </td><td>78.9   </td><td>4.9671 </td><td>2      </td><td>242    </td><td>17.8   </td><td>396.90 </td><td>9.14   </td></tr>\n",
       "\t<tr><td>0.02729</td><td> 0     </td><td>7.07   </td><td>0      </td><td>0.469  </td><td>7.185  </td><td>61.1   </td><td>4.9671 </td><td>2      </td><td>242    </td><td>17.8   </td><td>392.83 </td><td>4.03   </td></tr>\n",
       "\t<tr><td>0.03237</td><td> 0     </td><td>2.18   </td><td>0      </td><td>0.458  </td><td>6.998  </td><td>45.8   </td><td>6.0622 </td><td>3      </td><td>222    </td><td>18.7   </td><td>394.63 </td><td>2.94   </td></tr>\n",
       "\t<tr><td>0.06905</td><td> 0     </td><td>2.18   </td><td>0      </td><td>0.458  </td><td>7.147  </td><td>54.2   </td><td>6.0622 </td><td>3      </td><td>222    </td><td>18.7   </td><td>396.90 </td><td>5.33   </td></tr>\n",
       "</tbody>\n",
       "</table>\n"
      ],
      "text/latex": [
       "\\begin{tabular}{r|lllllllllllll}\n",
       " crim & zn & indus & chas & nox & rm & age & dis & rad & tax & ptratio & b & lstat\\\\\n",
       "\\hline\n",
       "\t 0.00632 & 18      & 2.31    & 0       & 0.538   & 6.575   & 65.2    & 4.0900  & 1       & 296     & 15.3    & 396.90  & 4.98   \\\\\n",
       "\t 0.02731 &  0      & 7.07    & 0       & 0.469   & 6.421   & 78.9    & 4.9671  & 2       & 242     & 17.8    & 396.90  & 9.14   \\\\\n",
       "\t 0.02729 &  0      & 7.07    & 0       & 0.469   & 7.185   & 61.1    & 4.9671  & 2       & 242     & 17.8    & 392.83  & 4.03   \\\\\n",
       "\t 0.03237 &  0      & 2.18    & 0       & 0.458   & 6.998   & 45.8    & 6.0622  & 3       & 222     & 18.7    & 394.63  & 2.94   \\\\\n",
       "\t 0.06905 &  0      & 2.18    & 0       & 0.458   & 7.147   & 54.2    & 6.0622  & 3       & 222     & 18.7    & 396.90  & 5.33   \\\\\n",
       "\\end{tabular}\n"
      ],
      "text/markdown": [
       "\n",
       "crim | zn | indus | chas | nox | rm | age | dis | rad | tax | ptratio | b | lstat | \n",
       "|---|---|---|---|---|\n",
       "| 0.00632 | 18      | 2.31    | 0       | 0.538   | 6.575   | 65.2    | 4.0900  | 1       | 296     | 15.3    | 396.90  | 4.98    | \n",
       "| 0.02731 |  0      | 7.07    | 0       | 0.469   | 6.421   | 78.9    | 4.9671  | 2       | 242     | 17.8    | 396.90  | 9.14    | \n",
       "| 0.02729 |  0      | 7.07    | 0       | 0.469   | 7.185   | 61.1    | 4.9671  | 2       | 242     | 17.8    | 392.83  | 4.03    | \n",
       "| 0.03237 |  0      | 2.18    | 0       | 0.458   | 6.998   | 45.8    | 6.0622  | 3       | 222     | 18.7    | 394.63  | 2.94    | \n",
       "| 0.06905 |  0      | 2.18    | 0       | 0.458   | 7.147   | 54.2    | 6.0622  | 3       | 222     | 18.7    | 396.90  | 5.33    | \n",
       "\n",
       "\n"
      ],
      "text/plain": [
       "  crim    zn indus chas nox   rm    age  dis    rad tax ptratio b      lstat\n",
       "1 0.00632 18 2.31  0    0.538 6.575 65.2 4.0900 1   296 15.3    396.90 4.98 \n",
       "2 0.02731  0 7.07  0    0.469 6.421 78.9 4.9671 2   242 17.8    396.90 9.14 \n",
       "3 0.02729  0 7.07  0    0.469 7.185 61.1 4.9671 2   242 17.8    392.83 4.03 \n",
       "4 0.03237  0 2.18  0    0.458 6.998 45.8 6.0622 3   222 18.7    394.63 2.94 \n",
       "5 0.06905  0 2.18  0    0.458 7.147 54.2 6.0622 3   222 18.7    396.90 5.33 "
      ]
     },
     "metadata": {},
     "output_type": "display_data"
    }
   ],
   "source": [
    "bostonhousing_features <- BostonHousing[1:13]\n",
    "bostonhousing_features$chas = as.numeric(as.character(bostonhousing_features$chas))\n",
    "head(bostonhousing_features)"
   ]
  },
  {
   "cell_type": "markdown",
   "metadata": {},
   "source": [
    "### Let's random select our sample of 5 data points and analyze them"
   ]
  },
  {
   "cell_type": "code",
   "execution_count": 6,
   "metadata": {},
   "outputs": [
    {
     "data": {
      "text/html": [
       "<table>\n",
       "<thead><tr><th></th><th scope=col>crim</th><th scope=col>zn</th><th scope=col>indus</th><th scope=col>chas</th><th scope=col>nox</th><th scope=col>rm</th><th scope=col>age</th><th scope=col>dis</th><th scope=col>rad</th><th scope=col>tax</th><th scope=col>ptratio</th><th scope=col>b</th><th scope=col>lstat</th></tr></thead>\n",
       "<tbody>\n",
       "\t<tr><th scope=row>466</th><td> 3.16360</td><td> 0      </td><td>18.10   </td><td>0       </td><td>0.655   </td><td>5.759   </td><td> 48.2   </td><td>3.0665  </td><td>24      </td><td>666     </td><td>20.2    </td><td>334.40  </td><td>14.13   </td></tr>\n",
       "\t<tr><th scope=row>441</th><td>22.05110</td><td> 0      </td><td>18.10   </td><td>0       </td><td>0.740   </td><td>5.818   </td><td> 92.4   </td><td>1.8662  </td><td>24      </td><td>666     </td><td>20.2    </td><td>391.45  </td><td>22.11   </td></tr>\n",
       "\t<tr><th scope=row>389</th><td>14.33370</td><td> 0      </td><td>18.10   </td><td>0       </td><td>0.700   </td><td>4.880   </td><td>100.0   </td><td>1.5895  </td><td>24      </td><td>666     </td><td>20.2    </td><td>372.92  </td><td>30.62   </td></tr>\n",
       "\t<tr><th scope=row>261</th><td> 0.54011</td><td>20      </td><td> 3.97   </td><td>0       </td><td>0.647   </td><td>7.203   </td><td> 81.8   </td><td>2.1121  </td><td> 5      </td><td>264     </td><td>13.0    </td><td>392.80  </td><td> 9.59   </td></tr>\n",
       "\t<tr><th scope=row>359</th><td> 5.20177</td><td> 0      </td><td>18.10   </td><td>1       </td><td>0.770   </td><td>6.127   </td><td> 83.4   </td><td>2.7227  </td><td>24      </td><td>666     </td><td>20.2    </td><td>395.43  </td><td>11.48   </td></tr>\n",
       "</tbody>\n",
       "</table>\n"
      ],
      "text/latex": [
       "\\begin{tabular}{r|lllllllllllll}\n",
       "  & crim & zn & indus & chas & nox & rm & age & dis & rad & tax & ptratio & b & lstat\\\\\n",
       "\\hline\n",
       "\t466 &  3.16360 &  0       & 18.10    & 0        & 0.655    & 5.759    &  48.2    & 3.0665   & 24       & 666      & 20.2     & 334.40   & 14.13   \\\\\n",
       "\t441 & 22.05110 &  0       & 18.10    & 0        & 0.740    & 5.818    &  92.4    & 1.8662   & 24       & 666      & 20.2     & 391.45   & 22.11   \\\\\n",
       "\t389 & 14.33370 &  0       & 18.10    & 0        & 0.700    & 4.880    & 100.0    & 1.5895   & 24       & 666      & 20.2     & 372.92   & 30.62   \\\\\n",
       "\t261 &  0.54011 & 20       &  3.97    & 0        & 0.647    & 7.203    &  81.8    & 2.1121   &  5       & 264      & 13.0     & 392.80   &  9.59   \\\\\n",
       "\t359 &  5.20177 &  0       & 18.10    & 1        & 0.770    & 6.127    &  83.4    & 2.7227   & 24       & 666      & 20.2     & 395.43   & 11.48   \\\\\n",
       "\\end{tabular}\n"
      ],
      "text/markdown": [
       "\n",
       "| <!--/--> | crim | zn | indus | chas | nox | rm | age | dis | rad | tax | ptratio | b | lstat | \n",
       "|---|---|---|---|---|\n",
       "| 466 |  3.16360 |  0       | 18.10    | 0        | 0.655    | 5.759    |  48.2    | 3.0665   | 24       | 666      | 20.2     | 334.40   | 14.13    | \n",
       "| 441 | 22.05110 |  0       | 18.10    | 0        | 0.740    | 5.818    |  92.4    | 1.8662   | 24       | 666      | 20.2     | 391.45   | 22.11    | \n",
       "| 389 | 14.33370 |  0       | 18.10    | 0        | 0.700    | 4.880    | 100.0    | 1.5895   | 24       | 666      | 20.2     | 372.92   | 30.62    | \n",
       "| 261 |  0.54011 | 20       |  3.97    | 0        | 0.647    | 7.203    |  81.8    | 2.1121   |  5       | 264      | 13.0     | 392.80   |  9.59    | \n",
       "| 359 |  5.20177 |  0       | 18.10    | 1        | 0.770    | 6.127    |  83.4    | 2.7227   | 24       | 666      | 20.2     | 395.43   | 11.48    | \n",
       "\n",
       "\n"
      ],
      "text/plain": [
       "    crim     zn indus chas nox   rm    age   dis    rad tax ptratio b     \n",
       "466  3.16360  0 18.10 0    0.655 5.759  48.2 3.0665 24  666 20.2    334.40\n",
       "441 22.05110  0 18.10 0    0.740 5.818  92.4 1.8662 24  666 20.2    391.45\n",
       "389 14.33370  0 18.10 0    0.700 4.880 100.0 1.5895 24  666 20.2    372.92\n",
       "261  0.54011 20  3.97 0    0.647 7.203  81.8 2.1121  5  264 13.0    392.80\n",
       "359  5.20177  0 18.10 1    0.770 6.127  83.4 2.7227 24  666 20.2    395.43\n",
       "    lstat\n",
       "466 14.13\n",
       "441 22.11\n",
       "389 30.62\n",
       "261  9.59\n",
       "359 11.48"
      ]
     },
     "metadata": {},
     "output_type": "display_data"
    }
   ],
   "source": [
    "set.seed(42)\n",
    "sample = sample_n(bostonhousing_features, 5)\n",
    "sample"
   ]
  },
  {
   "cell_type": "markdown",
   "metadata": {},
   "source": [
    "#### Let's Visualize our samples in a Heatmap "
   ]
  },
  {
   "cell_type": "code",
   "execution_count": 26,
   "metadata": {},
   "outputs": [
    {
     "name": "stderr",
     "output_type": "stream",
     "text": [
      "Updating HTML index of packages in '.Library'\n",
      "Making 'packages.html' ... done\n"
     ]
    },
    {
     "data": {
      "image/png": "[encoded data removed]",
      "text/plain": [
       "Plot with title “Heatmap of Samples”"
      ]
     },
     "metadata": {},
     "output_type": "display_data"
    }
   ],
   "source": [
    "##heatmap(as.matrix(sample))\n",
    "\n",
    "install.packages(\"RColorBrewer\")\n",
    "library(\"RColorBrewer\")\n",
    "library(\"repr\")\n",
    "options(repr.plot.width=5, repr.plot.height=5)\n",
    "heatmap(as.matrix(sample),Colv=NA,col=brewer.pal(9,\"Blues\"),main = \"Heatmap of Samples\")\n"
   ]
  },
  {
   "cell_type": "markdown",
   "metadata": {},
   "source": [
    "#### Observations : Looking at the data and heatmap of the samples, it seems that\n",
    "\n",
    "- the values for tax and b are at a much higher value compared to other features, and\n",
    "\n",
    "- the values for zn and chas are 0 for 4/5 instances.\n",
    "\n",
    "- features zn, indus, chas, rad, tax, ptratio are contant for tracts 466, 441, 389 & 359. \n",
    "\n",
    "- Tract 261 seems almost like an outlier compared to the values of other 4 tracts."
   ]
  },
  {
   "cell_type": "markdown",
   "metadata": {},
   "source": [
    "### Let's compute Z-Scores for the Samples and analyze them\n",
    "\n",
    "Let's first compute some stats such as the Mean, Std Deviation & Skewness for the complete population."
   ]
  },
  {
   "cell_type": "code",
   "execution_count": 5,
   "metadata": {},
   "outputs": [
    {
     "data": {
      "text/html": [
       "<table>\n",
       "<thead><tr><th scope=col>feature</th><th scope=col>mean_</th><th scope=col>sd_</th><th scope=col>skewness_</th></tr></thead>\n",
       "<tbody>\n",
       "\t<tr><td>crim        </td><td>  3.61352356</td><td>  8.6015451 </td><td> 5.2076524  </td></tr>\n",
       "\t<tr><td>zn          </td><td> 11.36363636</td><td> 23.3224530 </td><td> 2.2190631  </td></tr>\n",
       "\t<tr><td>indus       </td><td> 11.13677866</td><td>  6.8603529 </td><td> 0.2941463  </td></tr>\n",
       "\t<tr><td>chas        </td><td>  0.06916996</td><td>  0.2539940 </td><td> 3.3957993  </td></tr>\n",
       "\t<tr><td>nox         </td><td>  0.55469506</td><td>  0.1158777 </td><td> 0.7271442  </td></tr>\n",
       "\t<tr><td>rm          </td><td>  6.28463439</td><td>  0.7026171 </td><td> 0.4024147  </td></tr>\n",
       "\t<tr><td>age         </td><td> 68.57490119</td><td> 28.1488614 </td><td>-0.5971856  </td></tr>\n",
       "\t<tr><td>dis         </td><td>  3.79504269</td><td>  2.1057101 </td><td> 1.0087788  </td></tr>\n",
       "\t<tr><td>rad         </td><td>  9.54940711</td><td>  8.7072594 </td><td> 1.0018335  </td></tr>\n",
       "\t<tr><td>tax         </td><td>408.23715415</td><td>168.5371161 </td><td> 0.6679683  </td></tr>\n",
       "\t<tr><td>ptratio     </td><td> 18.45553360</td><td>  2.1649455 </td><td>-0.7999445  </td></tr>\n",
       "\t<tr><td>b           </td><td>356.67403162</td><td> 91.2948644 </td><td>-2.8817983  </td></tr>\n",
       "\t<tr><td>lstat       </td><td> 12.65306324</td><td>  7.1410615 </td><td> 0.9037707  </td></tr>\n",
       "</tbody>\n",
       "</table>\n"
      ],
      "text/latex": [
       "\\begin{tabular}{r|llll}\n",
       " feature & mean\\_ & sd\\_ & skewness\\_\\\\\n",
       "\\hline\n",
       "\t crim         &   3.61352356 &   8.6015451  &  5.2076524  \\\\\n",
       "\t zn           &  11.36363636 &  23.3224530  &  2.2190631  \\\\\n",
       "\t indus        &  11.13677866 &   6.8603529  &  0.2941463  \\\\\n",
       "\t chas         &   0.06916996 &   0.2539940  &  3.3957993  \\\\\n",
       "\t nox          &   0.55469506 &   0.1158777  &  0.7271442  \\\\\n",
       "\t rm           &   6.28463439 &   0.7026171  &  0.4024147  \\\\\n",
       "\t age          &  68.57490119 &  28.1488614  & -0.5971856  \\\\\n",
       "\t dis          &   3.79504269 &   2.1057101  &  1.0087788  \\\\\n",
       "\t rad          &   9.54940711 &   8.7072594  &  1.0018335  \\\\\n",
       "\t tax          & 408.23715415 & 168.5371161  &  0.6679683  \\\\\n",
       "\t ptratio      &  18.45553360 &   2.1649455  & -0.7999445  \\\\\n",
       "\t b            & 356.67403162 &  91.2948644  & -2.8817983  \\\\\n",
       "\t lstat        &  12.65306324 &   7.1410615  &  0.9037707  \\\\\n",
       "\\end{tabular}\n"
      ],
      "text/markdown": [
       "\n",
       "feature | mean_ | sd_ | skewness_ | \n",
       "|---|---|---|---|---|---|---|---|---|---|---|---|---|\n",
       "| crim         |   3.61352356 |   8.6015451  |  5.2076524   | \n",
       "| zn           |  11.36363636 |  23.3224530  |  2.2190631   | \n",
       "| indus        |  11.13677866 |   6.8603529  |  0.2941463   | \n",
       "| chas         |   0.06916996 |   0.2539940  |  3.3957993   | \n",
       "| nox          |   0.55469506 |   0.1158777  |  0.7271442   | \n",
       "| rm           |   6.28463439 |   0.7026171  |  0.4024147   | \n",
       "| age          |  68.57490119 |  28.1488614  | -0.5971856   | \n",
       "| dis          |   3.79504269 |   2.1057101  |  1.0087788   | \n",
       "| rad          |   9.54940711 |   8.7072594  |  1.0018335   | \n",
       "| tax          | 408.23715415 | 168.5371161  |  0.6679683   | \n",
       "| ptratio      |  18.45553360 |   2.1649455  | -0.7999445   | \n",
       "| b            | 356.67403162 |  91.2948644  | -2.8817983   | \n",
       "| lstat        |  12.65306324 |   7.1410615  |  0.9037707   | \n",
       "\n",
       "\n"
      ],
      "text/plain": [
       "   feature mean_        sd_         skewness_ \n",
       "1  crim      3.61352356   8.6015451  5.2076524\n",
       "2  zn       11.36363636  23.3224530  2.2190631\n",
       "3  indus    11.13677866   6.8603529  0.2941463\n",
       "4  chas      0.06916996   0.2539940  3.3957993\n",
       "5  nox       0.55469506   0.1158777  0.7271442\n",
       "6  rm        6.28463439   0.7026171  0.4024147\n",
       "7  age      68.57490119  28.1488614 -0.5971856\n",
       "8  dis       3.79504269   2.1057101  1.0087788\n",
       "9  rad       9.54940711   8.7072594  1.0018335\n",
       "10 tax     408.23715415 168.5371161  0.6679683\n",
       "11 ptratio  18.45553360   2.1649455 -0.7999445\n",
       "12 b       356.67403162  91.2948644 -2.8817983\n",
       "13 lstat    12.65306324   7.1410615  0.9037707"
      ]
     },
     "metadata": {},
     "output_type": "display_data"
    }
   ],
   "source": [
    "stats = data.frame(feature=colnames(bostonhousing_features))\n",
    "stats['mean_'] = sapply(bostonhousing_features, mean)\n",
    "stats['sd_'] = sapply(bostonhousing_features, sd)\n",
    "stats['skewness_'] = sapply(bostonhousing_features, skewness)\n",
    "stats"
   ]
  },
  {
   "cell_type": "markdown",
   "metadata": {},
   "source": [
    "#### Let's Compute the stats for the sample"
   ]
  },
  {
   "cell_type": "code",
   "execution_count": 31,
   "metadata": {},
   "outputs": [
    {
     "data": {
      "text/html": [
       "<table>\n",
       "<thead><tr><th scope=col>feature</th><th scope=col>mean_</th><th scope=col>mean_diff</th><th scope=col>zscore</th></tr></thead>\n",
       "<tbody>\n",
       "\t<tr><td>crim       </td><td>  9.058056 </td><td>  5.4445324</td><td> 0.6329714 </td></tr>\n",
       "\t<tr><td>zn         </td><td>  4.000000 </td><td> -7.3636364</td><td>-0.3157316 </td></tr>\n",
       "\t<tr><td>indus      </td><td> 15.274000 </td><td>  4.1372213</td><td> 0.6030625 </td></tr>\n",
       "\t<tr><td>chas       </td><td>  0.200000 </td><td>  0.1308300</td><td> 0.5150910 </td></tr>\n",
       "\t<tr><td>nox        </td><td>  0.702400 </td><td>  0.1477049</td><td> 1.2746626 </td></tr>\n",
       "\t<tr><td>rm         </td><td>  5.957400 </td><td> -0.3272344</td><td>-0.4657364 </td></tr>\n",
       "\t<tr><td>age        </td><td> 81.160000 </td><td> 12.5850988</td><td> 0.4470909 </td></tr>\n",
       "\t<tr><td>dis        </td><td>  2.271400 </td><td> -1.5236427</td><td>-0.7235767 </td></tr>\n",
       "\t<tr><td>rad        </td><td> 20.200000 </td><td> 10.6505929</td><td> 1.2231854 </td></tr>\n",
       "\t<tr><td>tax        </td><td>585.600000 </td><td>177.3628458</td><td> 1.0523667 </td></tr>\n",
       "\t<tr><td>ptratio    </td><td> 18.760000 </td><td>  0.3044664</td><td> 0.1406347 </td></tr>\n",
       "\t<tr><td>b          </td><td>377.400000 </td><td> 20.7259684</td><td> 0.2270223 </td></tr>\n",
       "\t<tr><td>lstat      </td><td> 17.586000 </td><td>  4.9329368</td><td> 0.6907848 </td></tr>\n",
       "</tbody>\n",
       "</table>\n"
      ],
      "text/latex": [
       "\\begin{tabular}{r|llll}\n",
       " feature & mean\\_ & mean\\_diff & zscore\\\\\n",
       "\\hline\n",
       "\t crim        &   9.058056  &   5.4445324 &  0.6329714 \\\\\n",
       "\t zn          &   4.000000  &  -7.3636364 & -0.3157316 \\\\\n",
       "\t indus       &  15.274000  &   4.1372213 &  0.6030625 \\\\\n",
       "\t chas        &   0.200000  &   0.1308300 &  0.5150910 \\\\\n",
       "\t nox         &   0.702400  &   0.1477049 &  1.2746626 \\\\\n",
       "\t rm          &   5.957400  &  -0.3272344 & -0.4657364 \\\\\n",
       "\t age         &  81.160000  &  12.5850988 &  0.4470909 \\\\\n",
       "\t dis         &   2.271400  &  -1.5236427 & -0.7235767 \\\\\n",
       "\t rad         &  20.200000  &  10.6505929 &  1.2231854 \\\\\n",
       "\t tax         & 585.600000  & 177.3628458 &  1.0523667 \\\\\n",
       "\t ptratio     &  18.760000  &   0.3044664 &  0.1406347 \\\\\n",
       "\t b           & 377.400000  &  20.7259684 &  0.2270223 \\\\\n",
       "\t lstat       &  17.586000  &   4.9329368 &  0.6907848 \\\\\n",
       "\\end{tabular}\n"
      ],
      "text/markdown": [
       "\n",
       "feature | mean_ | mean_diff | zscore | \n",
       "|---|---|---|---|---|---|---|---|---|---|---|---|---|\n",
       "| crim        |   9.058056  |   5.4445324 |  0.6329714  | \n",
       "| zn          |   4.000000  |  -7.3636364 | -0.3157316  | \n",
       "| indus       |  15.274000  |   4.1372213 |  0.6030625  | \n",
       "| chas        |   0.200000  |   0.1308300 |  0.5150910  | \n",
       "| nox         |   0.702400  |   0.1477049 |  1.2746626  | \n",
       "| rm          |   5.957400  |  -0.3272344 | -0.4657364  | \n",
       "| age         |  81.160000  |  12.5850988 |  0.4470909  | \n",
       "| dis         |   2.271400  |  -1.5236427 | -0.7235767  | \n",
       "| rad         |  20.200000  |  10.6505929 |  1.2231854  | \n",
       "| tax         | 585.600000  | 177.3628458 |  1.0523667  | \n",
       "| ptratio     |  18.760000  |   0.3044664 |  0.1406347  | \n",
       "| b           | 377.400000  |  20.7259684 |  0.2270223  | \n",
       "| lstat       |  17.586000  |   4.9329368 |  0.6907848  | \n",
       "\n",
       "\n"
      ],
      "text/plain": [
       "   feature mean_      mean_diff   zscore    \n",
       "1  crim      9.058056   5.4445324  0.6329714\n",
       "2  zn        4.000000  -7.3636364 -0.3157316\n",
       "3  indus    15.274000   4.1372213  0.6030625\n",
       "4  chas      0.200000   0.1308300  0.5150910\n",
       "5  nox       0.702400   0.1477049  1.2746626\n",
       "6  rm        5.957400  -0.3272344 -0.4657364\n",
       "7  age      81.160000  12.5850988  0.4470909\n",
       "8  dis       2.271400  -1.5236427 -0.7235767\n",
       "9  rad      20.200000  10.6505929  1.2231854\n",
       "10 tax     585.600000 177.3628458  1.0523667\n",
       "11 ptratio  18.760000   0.3044664  0.1406347\n",
       "12 b       377.400000  20.7259684  0.2270223\n",
       "13 lstat    17.586000   4.9329368  0.6907848"
      ]
     },
     "metadata": {},
     "output_type": "display_data"
    }
   ],
   "source": [
    "sample_stats = data.frame(feature=colnames(bostonhousing_features))\n",
    "sample_stats['mean_'] = sapply(sample, mean)\n",
    "sample_stats['mean_diff'] = sample_stats['mean_'] - stats$mean_\n",
    "sample_stats['zscore'] = sample_stats['mean_diff'] / stats$sd_\n",
    "sample_stats"
   ]
  },
  {
   "cell_type": "markdown",
   "metadata": {},
   "source": [
    "From the above mean_diff_, you can tell that sample mean for **_age_**, **_tax_** and **_b_** show a big deviation from the population mean.\n",
    "\n",
    "\n",
    "Just comparing the raw mean of the sample and the complete population doesn't really give us an exact picture, unless we convert this difference to units of Standard Deviation. This metrix is call the z-score and is given by the formula \n",
    "\n",
    "``` (Sample Mean - Population Mean)/ Population Std Deviation ```\n",
    "\n",
    "\n",
    "Z-score, above represents the distance between the sample mean and the population mean in units of standard deviation. Let's plot and visualize the zscore to see how the samples compare to the population."
   ]
  },
  {
   "cell_type": "code",
   "execution_count": 41,
   "metadata": {},
   "outputs": [],
   "source": [
    "sample_stats = sample_stats[c(1, 4)]\n"
   ]
  },
  {
   "cell_type": "code",
   "execution_count": 45,
   "metadata": {},
   "outputs": [
    {
     "name": "stderr",
     "output_type": "stream",
     "text": [
      "Using feature as id variables\n"
     ]
    },
    {
     "data": {},
     "metadata": {},
     "output_type": "display_data"
    },
    {
     "data": {
      "image/png": "[encoded data removed]",
      "text/plain": [
       "plot without title"
      ]
     },
     "metadata": {},
     "output_type": "display_data"
    }
   ],
   "source": [
    "library(reshape2)\n",
    "library(ggplot2)\n",
    "\n",
    "#ggplot(melt(summary_vals), aes(x = feature, y = value, fill = variable)) +  of Mean for each feature\n",
    " #   geom_bar(stat = \"identity\", width=0.5, position = \"dodge\")\n",
    "options(repr.plot.width=7, repr.plot.height=7)\n",
    "ggplot(melt(sample_stats), aes(fill=variable, y=value, x=feature)) +\n",
    "    geom_bar(stat=\"identity\", width=0.5, position=\"dodge\") +\n",
    "     coord_flip() +\n",
    "     ggtitle(\"Sample Z-scores across features\")\n"
   ]
  },
  {
   "cell_type": "markdown",
   "metadata": {},
   "source": [
    "#### Observations: Looking at the Z-Scores of the samples, \n",
    "\n",
    "- z-scores or zn, rm & dis are below the mean, the z-scores of the rest of the features are above the mean.\n",
    "\n",
    "- z-score of ptratio (pupil teacher ratio) shows the least deviation from the population mean.\n",
    "\n",
    "- z-score of nox (Nitrogen Oxide Concentration) shows the most deviation from the population mean.\n",
    "\n"
   ]
  },
  {
   "cell_type": "code",
   "execution_count": null,
   "metadata": {},
   "outputs": [],
   "source": []
  }
 ],
 "metadata": {
  "kernelspec": {
   "display_name": "R",
   "language": "R",
   "name": "ir"
  },
  "language_info": {
   "codemirror_mode": "r",
   "file_extension": ".r",
   "mimetype": "text/x-r-source",
   "name": "R",
   "pygments_lexer": "r",
   "version": "3.3.2"
  }
 },
 "nbformat": 4,
 "nbformat_minor": 2
}
